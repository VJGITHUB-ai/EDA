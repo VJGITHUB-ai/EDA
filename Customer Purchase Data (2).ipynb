{
 "cells": [
  {
   "cell_type": "markdown",
   "id": "89b1eeda-c06d-49db-be92-a251907735fa",
   "metadata": {},
   "source": [
    "### Customer Purchase Data Analysis"
   ]
  },
  {
   "cell_type": "code",
   "execution_count": 3,
   "id": "a2630643-f0d8-491a-9e01-a2bea41ec80e",
   "metadata": {},
   "outputs": [],
   "source": [
    "# import libraries\n",
    "import numpy as np\n",
    "import pandas as pd\n",
    "import seaborn as sns\n",
    "import matplotlib.pyplot as plt\n"
   ]
  },
  {
   "cell_type": "code",
   "execution_count": 5,
   "id": "5247af87-9563-43ac-86a7-0f76a1897a5c",
   "metadata": {},
   "outputs": [
    {
     "name": "stdout",
     "output_type": "stream",
     "text": [
      "      Age  Gender   AnnualIncome  NumberOfPurchases  ProductCategory  \\\n",
      "0      40       1   66120.267939                  8                0   \n",
      "1      20       1   23579.773583                  4                2   \n",
      "2      27       1  127821.306432                 11                2   \n",
      "3      24       1  137798.623120                 19                3   \n",
      "4      31       1   99300.964220                 19                1   \n",
      "...   ...     ...            ...                ...              ...   \n",
      "1495   39       1   65048.141834                 13                0   \n",
      "1496   67       1   28775.331069                 18                2   \n",
      "1497   40       1   57363.247541                  7                4   \n",
      "1498   63       0  134021.775532                 16                2   \n",
      "1499   50       0   52625.665974                 13                0   \n",
      "\n",
      "      TimeSpentOnWebsite  LoyaltyProgram  DiscountsAvailed  PurchaseStatus  \n",
      "0              30.568601               0                 5               1  \n",
      "1              38.240097               0                 5               0  \n",
      "2              31.633212               1                 0               1  \n",
      "3              46.167059               0                 4               1  \n",
      "4              19.823592               0                 0               1  \n",
      "...                  ...             ...               ...             ...  \n",
      "1495           34.590743               0                 5               1  \n",
      "1496           17.625707               0                 1               1  \n",
      "1497           12.206033               0                 0               0  \n",
      "1498           37.311634               1                 0               1  \n",
      "1499           25.348017               1                 4               1  \n",
      "\n",
      "[1500 rows x 9 columns]\n"
     ]
    }
   ],
   "source": [
    "# Load the CSV file\n",
    "data = pd.read_csv(\"C:/Users/Varty/Downloads/Customer_purchase_data.csv\")\n",
    "print(data)"
   ]
  },
  {
   "cell_type": "code",
   "execution_count": 11,
   "id": "88b748fb-86cf-4611-a19a-ea92f2b57ceb",
   "metadata": {},
   "outputs": [
    {
     "data": {
      "text/html": [
       "<div>\n",
       "<style scoped>\n",
       "    .dataframe tbody tr th:only-of-type {\n",
       "        vertical-align: middle;\n",
       "    }\n",
       "\n",
       "    .dataframe tbody tr th {\n",
       "        vertical-align: top;\n",
       "    }\n",
       "\n",
       "    .dataframe thead th {\n",
       "        text-align: right;\n",
       "    }\n",
       "</style>\n",
       "<table border=\"1\" class=\"dataframe\">\n",
       "  <thead>\n",
       "    <tr style=\"text-align: right;\">\n",
       "      <th></th>\n",
       "      <th>Age</th>\n",
       "      <th>Gender</th>\n",
       "      <th>AnnualIncome</th>\n",
       "      <th>NumberOfPurchases</th>\n",
       "      <th>ProductCategory</th>\n",
       "      <th>TimeSpentOnWebsite</th>\n",
       "      <th>LoyaltyProgram</th>\n",
       "      <th>DiscountsAvailed</th>\n",
       "      <th>PurchaseStatus</th>\n",
       "    </tr>\n",
       "  </thead>\n",
       "  <tbody>\n",
       "    <tr>\n",
       "      <th>0</th>\n",
       "      <td>40</td>\n",
       "      <td>1</td>\n",
       "      <td>66120.267939</td>\n",
       "      <td>8</td>\n",
       "      <td>0</td>\n",
       "      <td>30.568601</td>\n",
       "      <td>0</td>\n",
       "      <td>5</td>\n",
       "      <td>1</td>\n",
       "    </tr>\n",
       "    <tr>\n",
       "      <th>1</th>\n",
       "      <td>20</td>\n",
       "      <td>1</td>\n",
       "      <td>23579.773583</td>\n",
       "      <td>4</td>\n",
       "      <td>2</td>\n",
       "      <td>38.240097</td>\n",
       "      <td>0</td>\n",
       "      <td>5</td>\n",
       "      <td>0</td>\n",
       "    </tr>\n",
       "    <tr>\n",
       "      <th>2</th>\n",
       "      <td>27</td>\n",
       "      <td>1</td>\n",
       "      <td>127821.306432</td>\n",
       "      <td>11</td>\n",
       "      <td>2</td>\n",
       "      <td>31.633212</td>\n",
       "      <td>1</td>\n",
       "      <td>0</td>\n",
       "      <td>1</td>\n",
       "    </tr>\n",
       "    <tr>\n",
       "      <th>3</th>\n",
       "      <td>24</td>\n",
       "      <td>1</td>\n",
       "      <td>137798.623120</td>\n",
       "      <td>19</td>\n",
       "      <td>3</td>\n",
       "      <td>46.167059</td>\n",
       "      <td>0</td>\n",
       "      <td>4</td>\n",
       "      <td>1</td>\n",
       "    </tr>\n",
       "    <tr>\n",
       "      <th>4</th>\n",
       "      <td>31</td>\n",
       "      <td>1</td>\n",
       "      <td>99300.964220</td>\n",
       "      <td>19</td>\n",
       "      <td>1</td>\n",
       "      <td>19.823592</td>\n",
       "      <td>0</td>\n",
       "      <td>0</td>\n",
       "      <td>1</td>\n",
       "    </tr>\n",
       "  </tbody>\n",
       "</table>\n",
       "</div>"
      ],
      "text/plain": [
       "   Age  Gender   AnnualIncome  NumberOfPurchases  ProductCategory  \\\n",
       "0   40       1   66120.267939                  8                0   \n",
       "1   20       1   23579.773583                  4                2   \n",
       "2   27       1  127821.306432                 11                2   \n",
       "3   24       1  137798.623120                 19                3   \n",
       "4   31       1   99300.964220                 19                1   \n",
       "\n",
       "   TimeSpentOnWebsite  LoyaltyProgram  DiscountsAvailed  PurchaseStatus  \n",
       "0           30.568601               0                 5               1  \n",
       "1           38.240097               0                 5               0  \n",
       "2           31.633212               1                 0               1  \n",
       "3           46.167059               0                 4               1  \n",
       "4           19.823592               0                 0               1  "
      ]
     },
     "execution_count": 11,
     "metadata": {},
     "output_type": "execute_result"
    }
   ],
   "source": [
    "#The head() method returns a specified number of rows from the  top.\n",
    "data.head()"
   ]
  },
  {
   "cell_type": "code",
   "execution_count": 13,
   "id": "ad2ed8f2-1461-4242-9ef8-55112fc7abe7",
   "metadata": {},
   "outputs": [
    {
     "data": {
      "text/html": [
       "<div>\n",
       "<style scoped>\n",
       "    .dataframe tbody tr th:only-of-type {\n",
       "        vertical-align: middle;\n",
       "    }\n",
       "\n",
       "    .dataframe tbody tr th {\n",
       "        vertical-align: top;\n",
       "    }\n",
       "\n",
       "    .dataframe thead th {\n",
       "        text-align: right;\n",
       "    }\n",
       "</style>\n",
       "<table border=\"1\" class=\"dataframe\">\n",
       "  <thead>\n",
       "    <tr style=\"text-align: right;\">\n",
       "      <th></th>\n",
       "      <th>Age</th>\n",
       "      <th>Gender</th>\n",
       "      <th>AnnualIncome</th>\n",
       "      <th>NumberOfPurchases</th>\n",
       "      <th>ProductCategory</th>\n",
       "      <th>TimeSpentOnWebsite</th>\n",
       "      <th>LoyaltyProgram</th>\n",
       "      <th>DiscountsAvailed</th>\n",
       "      <th>PurchaseStatus</th>\n",
       "    </tr>\n",
       "  </thead>\n",
       "  <tbody>\n",
       "    <tr>\n",
       "      <th>1495</th>\n",
       "      <td>39</td>\n",
       "      <td>1</td>\n",
       "      <td>65048.141834</td>\n",
       "      <td>13</td>\n",
       "      <td>0</td>\n",
       "      <td>34.590743</td>\n",
       "      <td>0</td>\n",
       "      <td>5</td>\n",
       "      <td>1</td>\n",
       "    </tr>\n",
       "    <tr>\n",
       "      <th>1496</th>\n",
       "      <td>67</td>\n",
       "      <td>1</td>\n",
       "      <td>28775.331069</td>\n",
       "      <td>18</td>\n",
       "      <td>2</td>\n",
       "      <td>17.625707</td>\n",
       "      <td>0</td>\n",
       "      <td>1</td>\n",
       "      <td>1</td>\n",
       "    </tr>\n",
       "    <tr>\n",
       "      <th>1497</th>\n",
       "      <td>40</td>\n",
       "      <td>1</td>\n",
       "      <td>57363.247541</td>\n",
       "      <td>7</td>\n",
       "      <td>4</td>\n",
       "      <td>12.206033</td>\n",
       "      <td>0</td>\n",
       "      <td>0</td>\n",
       "      <td>0</td>\n",
       "    </tr>\n",
       "    <tr>\n",
       "      <th>1498</th>\n",
       "      <td>63</td>\n",
       "      <td>0</td>\n",
       "      <td>134021.775532</td>\n",
       "      <td>16</td>\n",
       "      <td>2</td>\n",
       "      <td>37.311634</td>\n",
       "      <td>1</td>\n",
       "      <td>0</td>\n",
       "      <td>1</td>\n",
       "    </tr>\n",
       "    <tr>\n",
       "      <th>1499</th>\n",
       "      <td>50</td>\n",
       "      <td>0</td>\n",
       "      <td>52625.665974</td>\n",
       "      <td>13</td>\n",
       "      <td>0</td>\n",
       "      <td>25.348017</td>\n",
       "      <td>1</td>\n",
       "      <td>4</td>\n",
       "      <td>1</td>\n",
       "    </tr>\n",
       "  </tbody>\n",
       "</table>\n",
       "</div>"
      ],
      "text/plain": [
       "      Age  Gender   AnnualIncome  NumberOfPurchases  ProductCategory  \\\n",
       "1495   39       1   65048.141834                 13                0   \n",
       "1496   67       1   28775.331069                 18                2   \n",
       "1497   40       1   57363.247541                  7                4   \n",
       "1498   63       0  134021.775532                 16                2   \n",
       "1499   50       0   52625.665974                 13                0   \n",
       "\n",
       "      TimeSpentOnWebsite  LoyaltyProgram  DiscountsAvailed  PurchaseStatus  \n",
       "1495           34.590743               0                 5               1  \n",
       "1496           17.625707               0                 1               1  \n",
       "1497           12.206033               0                 0               0  \n",
       "1498           37.311634               1                 0               1  \n",
       "1499           25.348017               1                 4               1  "
      ]
     },
     "execution_count": 13,
     "metadata": {},
     "output_type": "execute_result"
    }
   ],
   "source": [
    "#The tail() method returns a specified number of last rows.\n",
    "data.tail()"
   ]
  },
  {
   "cell_type": "code",
   "execution_count": 15,
   "id": "f17179aa-8645-4f78-b7e6-20a3b647949e",
   "metadata": {},
   "outputs": [
    {
     "data": {
      "text/html": [
       "<div>\n",
       "<style scoped>\n",
       "    .dataframe tbody tr th:only-of-type {\n",
       "        vertical-align: middle;\n",
       "    }\n",
       "\n",
       "    .dataframe tbody tr th {\n",
       "        vertical-align: top;\n",
       "    }\n",
       "\n",
       "    .dataframe thead th {\n",
       "        text-align: right;\n",
       "    }\n",
       "</style>\n",
       "<table border=\"1\" class=\"dataframe\">\n",
       "  <thead>\n",
       "    <tr style=\"text-align: right;\">\n",
       "      <th></th>\n",
       "      <th>Age</th>\n",
       "      <th>Gender</th>\n",
       "      <th>AnnualIncome</th>\n",
       "      <th>NumberOfPurchases</th>\n",
       "      <th>ProductCategory</th>\n",
       "      <th>TimeSpentOnWebsite</th>\n",
       "      <th>LoyaltyProgram</th>\n",
       "      <th>DiscountsAvailed</th>\n",
       "      <th>PurchaseStatus</th>\n",
       "    </tr>\n",
       "  </thead>\n",
       "  <tbody>\n",
       "    <tr>\n",
       "      <th>count</th>\n",
       "      <td>1500.000000</td>\n",
       "      <td>1500.000000</td>\n",
       "      <td>1500.000000</td>\n",
       "      <td>1500.000000</td>\n",
       "      <td>1500.000000</td>\n",
       "      <td>1500.000000</td>\n",
       "      <td>1500.000000</td>\n",
       "      <td>1500.000000</td>\n",
       "      <td>1500.00000</td>\n",
       "    </tr>\n",
       "    <tr>\n",
       "      <th>mean</th>\n",
       "      <td>44.298667</td>\n",
       "      <td>0.504667</td>\n",
       "      <td>84249.164338</td>\n",
       "      <td>10.420000</td>\n",
       "      <td>2.012667</td>\n",
       "      <td>30.469040</td>\n",
       "      <td>0.326667</td>\n",
       "      <td>2.555333</td>\n",
       "      <td>0.43200</td>\n",
       "    </tr>\n",
       "    <tr>\n",
       "      <th>std</th>\n",
       "      <td>15.537259</td>\n",
       "      <td>0.500145</td>\n",
       "      <td>37629.493078</td>\n",
       "      <td>5.887391</td>\n",
       "      <td>1.428005</td>\n",
       "      <td>16.984392</td>\n",
       "      <td>0.469151</td>\n",
       "      <td>1.705152</td>\n",
       "      <td>0.49552</td>\n",
       "    </tr>\n",
       "    <tr>\n",
       "      <th>min</th>\n",
       "      <td>18.000000</td>\n",
       "      <td>0.000000</td>\n",
       "      <td>20001.512518</td>\n",
       "      <td>0.000000</td>\n",
       "      <td>0.000000</td>\n",
       "      <td>1.037023</td>\n",
       "      <td>0.000000</td>\n",
       "      <td>0.000000</td>\n",
       "      <td>0.00000</td>\n",
       "    </tr>\n",
       "    <tr>\n",
       "      <th>25%</th>\n",
       "      <td>31.000000</td>\n",
       "      <td>0.000000</td>\n",
       "      <td>53028.979155</td>\n",
       "      <td>5.000000</td>\n",
       "      <td>1.000000</td>\n",
       "      <td>16.156700</td>\n",
       "      <td>0.000000</td>\n",
       "      <td>1.000000</td>\n",
       "      <td>0.00000</td>\n",
       "    </tr>\n",
       "    <tr>\n",
       "      <th>50%</th>\n",
       "      <td>45.000000</td>\n",
       "      <td>1.000000</td>\n",
       "      <td>83699.581476</td>\n",
       "      <td>11.000000</td>\n",
       "      <td>2.000000</td>\n",
       "      <td>30.939516</td>\n",
       "      <td>0.000000</td>\n",
       "      <td>3.000000</td>\n",
       "      <td>0.00000</td>\n",
       "    </tr>\n",
       "    <tr>\n",
       "      <th>75%</th>\n",
       "      <td>57.000000</td>\n",
       "      <td>1.000000</td>\n",
       "      <td>117167.772858</td>\n",
       "      <td>15.000000</td>\n",
       "      <td>3.000000</td>\n",
       "      <td>44.369863</td>\n",
       "      <td>1.000000</td>\n",
       "      <td>4.000000</td>\n",
       "      <td>1.00000</td>\n",
       "    </tr>\n",
       "    <tr>\n",
       "      <th>max</th>\n",
       "      <td>70.000000</td>\n",
       "      <td>1.000000</td>\n",
       "      <td>149785.176481</td>\n",
       "      <td>20.000000</td>\n",
       "      <td>4.000000</td>\n",
       "      <td>59.991105</td>\n",
       "      <td>1.000000</td>\n",
       "      <td>5.000000</td>\n",
       "      <td>1.00000</td>\n",
       "    </tr>\n",
       "  </tbody>\n",
       "</table>\n",
       "</div>"
      ],
      "text/plain": [
       "               Age       Gender   AnnualIncome  NumberOfPurchases  \\\n",
       "count  1500.000000  1500.000000    1500.000000        1500.000000   \n",
       "mean     44.298667     0.504667   84249.164338          10.420000   \n",
       "std      15.537259     0.500145   37629.493078           5.887391   \n",
       "min      18.000000     0.000000   20001.512518           0.000000   \n",
       "25%      31.000000     0.000000   53028.979155           5.000000   \n",
       "50%      45.000000     1.000000   83699.581476          11.000000   \n",
       "75%      57.000000     1.000000  117167.772858          15.000000   \n",
       "max      70.000000     1.000000  149785.176481          20.000000   \n",
       "\n",
       "       ProductCategory  TimeSpentOnWebsite  LoyaltyProgram  DiscountsAvailed  \\\n",
       "count      1500.000000         1500.000000     1500.000000       1500.000000   \n",
       "mean          2.012667           30.469040        0.326667          2.555333   \n",
       "std           1.428005           16.984392        0.469151          1.705152   \n",
       "min           0.000000            1.037023        0.000000          0.000000   \n",
       "25%           1.000000           16.156700        0.000000          1.000000   \n",
       "50%           2.000000           30.939516        0.000000          3.000000   \n",
       "75%           3.000000           44.369863        1.000000          4.000000   \n",
       "max           4.000000           59.991105        1.000000          5.000000   \n",
       "\n",
       "       PurchaseStatus  \n",
       "count      1500.00000  \n",
       "mean          0.43200  \n",
       "std           0.49552  \n",
       "min           0.00000  \n",
       "25%           0.00000  \n",
       "50%           0.00000  \n",
       "75%           1.00000  \n",
       "max           1.00000  "
      ]
     },
     "execution_count": 15,
     "metadata": {},
     "output_type": "execute_result"
    }
   ],
   "source": [
    "# the data.describe() method prints the summary of all numeric columns\n",
    "data.describe()"
   ]
  },
  {
   "cell_type": "code",
   "execution_count": 17,
   "id": "051fd3d9-7519-4e17-9c44-f69ddbbb21d8",
   "metadata": {},
   "outputs": [
    {
     "name": "stdout",
     "output_type": "stream",
     "text": [
      "<class 'pandas.core.frame.DataFrame'>\n",
      "RangeIndex: 1500 entries, 0 to 1499\n",
      "Data columns (total 9 columns):\n",
      " #   Column              Non-Null Count  Dtype  \n",
      "---  ------              --------------  -----  \n",
      " 0   Age                 1500 non-null   int64  \n",
      " 1   Gender              1500 non-null   int64  \n",
      " 2   AnnualIncome        1500 non-null   float64\n",
      " 3   NumberOfPurchases   1500 non-null   int64  \n",
      " 4   ProductCategory     1500 non-null   int64  \n",
      " 5   TimeSpentOnWebsite  1500 non-null   float64\n",
      " 6   LoyaltyProgram      1500 non-null   int64  \n",
      " 7   DiscountsAvailed    1500 non-null   int64  \n",
      " 8   PurchaseStatus      1500 non-null   int64  \n",
      "dtypes: float64(2), int64(7)\n",
      "memory usage: 105.6 KB\n"
     ]
    }
   ],
   "source": [
    "#The `DataFrame.info()` function in Pandas is a method used to obtain a concise summary of a DataFrame’s structure and information.\n",
    "data.info()"
   ]
  },
  {
   "cell_type": "code",
   "execution_count": 19,
   "id": "55115dea-5734-43a6-aa7f-391bf7405f12",
   "metadata": {},
   "outputs": [
    {
     "name": "stdout",
     "output_type": "stream",
     "text": [
      "(1500, 9)\n",
      "1500\n",
      "9\n"
     ]
    }
   ],
   "source": [
    "print(data.shape)\n",
    "print(data.shape[0])\n",
    "print(data.shape[1])\n"
   ]
  },
  {
   "cell_type": "code",
   "execution_count": 21,
   "id": "0259588f-bdf8-4170-bfa5-5333d1cf56b3",
   "metadata": {},
   "outputs": [
    {
     "data": {
      "text/plain": [
       "['Age',\n",
       " 'Gender',\n",
       " 'AnnualIncome',\n",
       " 'NumberOfPurchases',\n",
       " 'ProductCategory',\n",
       " 'TimeSpentOnWebsite',\n",
       " 'LoyaltyProgram',\n",
       " 'DiscountsAvailed',\n",
       " 'PurchaseStatus']"
      ]
     },
     "execution_count": 21,
     "metadata": {},
     "output_type": "execute_result"
    }
   ],
   "source": [
    "list(data.columns)"
   ]
  },
  {
   "cell_type": "code",
   "execution_count": 23,
   "id": "92cca827-5b2a-4aee-942d-1478d2a6f874",
   "metadata": {},
   "outputs": [
    {
     "data": {
      "text/plain": [
       "Index(['Age', 'Gender', 'AnnualIncome', 'NumberOfPurchases', 'ProductCategory',\n",
       "       'TimeSpentOnWebsite', 'LoyaltyProgram', 'DiscountsAvailed',\n",
       "       'PurchaseStatus'],\n",
       "      dtype='object')"
      ]
     },
     "execution_count": 23,
     "metadata": {},
     "output_type": "execute_result"
    }
   ],
   "source": [
    "data.columns"
   ]
  },
  {
   "cell_type": "code",
   "execution_count": 25,
   "id": "6236fef8-6706-4694-a0b0-8dcf4854946d",
   "metadata": {},
   "outputs": [
    {
     "data": {
      "text/html": [
       "<div>\n",
       "<style scoped>\n",
       "    .dataframe tbody tr th:only-of-type {\n",
       "        vertical-align: middle;\n",
       "    }\n",
       "\n",
       "    .dataframe tbody tr th {\n",
       "        vertical-align: top;\n",
       "    }\n",
       "\n",
       "    .dataframe thead th {\n",
       "        text-align: right;\n",
       "    }\n",
       "</style>\n",
       "<table border=\"1\" class=\"dataframe\">\n",
       "  <thead>\n",
       "    <tr style=\"text-align: right;\">\n",
       "      <th></th>\n",
       "      <th>Age</th>\n",
       "      <th>Gender</th>\n",
       "      <th>AnnualIncome</th>\n",
       "      <th>NumberOfPurchases</th>\n",
       "      <th>ProductCategory</th>\n",
       "      <th>TimeSpentOnWebsite</th>\n",
       "      <th>LoyaltyProgram</th>\n",
       "      <th>DiscountsAvailed</th>\n",
       "      <th>PurchaseStatus</th>\n",
       "    </tr>\n",
       "  </thead>\n",
       "  <tbody>\n",
       "    <tr>\n",
       "      <th>0</th>\n",
       "      <td>False</td>\n",
       "      <td>False</td>\n",
       "      <td>False</td>\n",
       "      <td>False</td>\n",
       "      <td>False</td>\n",
       "      <td>False</td>\n",
       "      <td>False</td>\n",
       "      <td>False</td>\n",
       "      <td>False</td>\n",
       "    </tr>\n",
       "    <tr>\n",
       "      <th>1</th>\n",
       "      <td>False</td>\n",
       "      <td>False</td>\n",
       "      <td>False</td>\n",
       "      <td>False</td>\n",
       "      <td>False</td>\n",
       "      <td>False</td>\n",
       "      <td>False</td>\n",
       "      <td>False</td>\n",
       "      <td>False</td>\n",
       "    </tr>\n",
       "    <tr>\n",
       "      <th>2</th>\n",
       "      <td>False</td>\n",
       "      <td>False</td>\n",
       "      <td>False</td>\n",
       "      <td>False</td>\n",
       "      <td>False</td>\n",
       "      <td>False</td>\n",
       "      <td>False</td>\n",
       "      <td>False</td>\n",
       "      <td>False</td>\n",
       "    </tr>\n",
       "    <tr>\n",
       "      <th>3</th>\n",
       "      <td>False</td>\n",
       "      <td>False</td>\n",
       "      <td>False</td>\n",
       "      <td>False</td>\n",
       "      <td>False</td>\n",
       "      <td>False</td>\n",
       "      <td>False</td>\n",
       "      <td>False</td>\n",
       "      <td>False</td>\n",
       "    </tr>\n",
       "    <tr>\n",
       "      <th>4</th>\n",
       "      <td>False</td>\n",
       "      <td>False</td>\n",
       "      <td>False</td>\n",
       "      <td>False</td>\n",
       "      <td>False</td>\n",
       "      <td>False</td>\n",
       "      <td>False</td>\n",
       "      <td>False</td>\n",
       "      <td>False</td>\n",
       "    </tr>\n",
       "    <tr>\n",
       "      <th>...</th>\n",
       "      <td>...</td>\n",
       "      <td>...</td>\n",
       "      <td>...</td>\n",
       "      <td>...</td>\n",
       "      <td>...</td>\n",
       "      <td>...</td>\n",
       "      <td>...</td>\n",
       "      <td>...</td>\n",
       "      <td>...</td>\n",
       "    </tr>\n",
       "    <tr>\n",
       "      <th>1495</th>\n",
       "      <td>False</td>\n",
       "      <td>False</td>\n",
       "      <td>False</td>\n",
       "      <td>False</td>\n",
       "      <td>False</td>\n",
       "      <td>False</td>\n",
       "      <td>False</td>\n",
       "      <td>False</td>\n",
       "      <td>False</td>\n",
       "    </tr>\n",
       "    <tr>\n",
       "      <th>1496</th>\n",
       "      <td>False</td>\n",
       "      <td>False</td>\n",
       "      <td>False</td>\n",
       "      <td>False</td>\n",
       "      <td>False</td>\n",
       "      <td>False</td>\n",
       "      <td>False</td>\n",
       "      <td>False</td>\n",
       "      <td>False</td>\n",
       "    </tr>\n",
       "    <tr>\n",
       "      <th>1497</th>\n",
       "      <td>False</td>\n",
       "      <td>False</td>\n",
       "      <td>False</td>\n",
       "      <td>False</td>\n",
       "      <td>False</td>\n",
       "      <td>False</td>\n",
       "      <td>False</td>\n",
       "      <td>False</td>\n",
       "      <td>False</td>\n",
       "    </tr>\n",
       "    <tr>\n",
       "      <th>1498</th>\n",
       "      <td>False</td>\n",
       "      <td>False</td>\n",
       "      <td>False</td>\n",
       "      <td>False</td>\n",
       "      <td>False</td>\n",
       "      <td>False</td>\n",
       "      <td>False</td>\n",
       "      <td>False</td>\n",
       "      <td>False</td>\n",
       "    </tr>\n",
       "    <tr>\n",
       "      <th>1499</th>\n",
       "      <td>False</td>\n",
       "      <td>False</td>\n",
       "      <td>False</td>\n",
       "      <td>False</td>\n",
       "      <td>False</td>\n",
       "      <td>False</td>\n",
       "      <td>False</td>\n",
       "      <td>False</td>\n",
       "      <td>False</td>\n",
       "    </tr>\n",
       "  </tbody>\n",
       "</table>\n",
       "<p>1500 rows × 9 columns</p>\n",
       "</div>"
      ],
      "text/plain": [
       "        Age  Gender  AnnualIncome  NumberOfPurchases  ProductCategory  \\\n",
       "0     False   False         False              False            False   \n",
       "1     False   False         False              False            False   \n",
       "2     False   False         False              False            False   \n",
       "3     False   False         False              False            False   \n",
       "4     False   False         False              False            False   \n",
       "...     ...     ...           ...                ...              ...   \n",
       "1495  False   False         False              False            False   \n",
       "1496  False   False         False              False            False   \n",
       "1497  False   False         False              False            False   \n",
       "1498  False   False         False              False            False   \n",
       "1499  False   False         False              False            False   \n",
       "\n",
       "      TimeSpentOnWebsite  LoyaltyProgram  DiscountsAvailed  PurchaseStatus  \n",
       "0                  False           False             False           False  \n",
       "1                  False           False             False           False  \n",
       "2                  False           False             False           False  \n",
       "3                  False           False             False           False  \n",
       "4                  False           False             False           False  \n",
       "...                  ...             ...               ...             ...  \n",
       "1495               False           False             False           False  \n",
       "1496               False           False             False           False  \n",
       "1497               False           False             False           False  \n",
       "1498               False           False             False           False  \n",
       "1499               False           False             False           False  \n",
       "\n",
       "[1500 rows x 9 columns]"
      ]
     },
     "execution_count": 25,
     "metadata": {},
     "output_type": "execute_result"
    }
   ],
   "source": [
    "# checking the null values exits or not\n",
    "data.isnull()\n",
    "data.isna()"
   ]
  },
  {
   "cell_type": "code",
   "execution_count": 79,
   "id": "6c18f115-7762-4c63-b86e-cc0bedb2fa61",
   "metadata": {},
   "outputs": [
    {
     "data": {
      "text/plain": [
       "Age                   0\n",
       "Gender                0\n",
       "AnnualIncome          0\n",
       "NumberOfPurchases     0\n",
       "ProductCategory       0\n",
       "TimeSpentOnWebsite    0\n",
       "LoyaltyProgram        0\n",
       "DiscountsAvailed      0\n",
       "PurchaseStatus        0\n",
       "dtype: int64"
      ]
     },
     "execution_count": 79,
     "metadata": {},
     "output_type": "execute_result"
    }
   ],
   "source": [
    "data.isnull().sum()"
   ]
  },
  {
   "cell_type": "code",
   "execution_count": 19,
   "id": "ac62f29b-bce3-4bb9-b7b3-964eb5cd4323",
   "metadata": {},
   "outputs": [
    {
     "data": {
      "text/plain": [
       "30.752132833571963"
      ]
     },
     "execution_count": 19,
     "metadata": {},
     "output_type": "execute_result"
    }
   ],
   "source": [
    "# what is the average time spent on webite by the person aged above 40\n",
    "data[data['Age'] > 40]['TimeSpentOnWebsite'].mean()"
   ]
  },
  {
   "cell_type": "code",
   "execution_count": 29,
   "id": "01ccd0c0-7049-4e25-b8cb-0fd58d7b64e1",
   "metadata": {},
   "outputs": [
    {
     "data": {
      "text/plain": [
       "11.0"
      ]
     },
     "execution_count": 29,
     "metadata": {},
     "output_type": "execute_result"
    }
   ],
   "source": [
    "#  what is the average number of purchases by the females aged 30-50 ?\n",
    "data[(data['Gender'] == 0) & (data['Age'] >= 30) & (data['Age'] <= 50)]['NumberOfPurchases'].median()"
   ]
  },
  {
   "cell_type": "code",
   "execution_count": 29,
   "id": "c3e1e135-f999-41d5-acd5-3f77593b40ca",
   "metadata": {},
   "outputs": [
    {
     "data": {
      "text/plain": [
       "231"
      ]
     },
     "execution_count": 29,
     "metadata": {},
     "output_type": "execute_result"
    }
   ],
   "source": [
    "# what is the total number of loyalty programs availabe for male?\n",
    "data[(data['Gender'] == 0)]['LoyaltyProgram'].sum() "
   ]
  },
  {
   "cell_type": "code",
   "execution_count": 19,
   "id": "c55fd473-7549-4e14-a350-6eaf8d0bbd81",
   "metadata": {},
   "outputs": [
    {
     "data": {
      "text/plain": [
       "743"
      ]
     },
     "execution_count": 19,
     "metadata": {},
     "output_type": "execute_result"
    }
   ],
   "source": [
    "# what is the total number of males?\n",
    "data[data['Gender'] == 0]['Gender'].count()"
   ]
  },
  {
   "cell_type": "code",
   "execution_count": 59,
   "id": "71833c05-315d-45b0-bdd8-c994ef2280ee",
   "metadata": {},
   "outputs": [
    {
     "data": {
      "text/html": [
       "<div>\n",
       "<style scoped>\n",
       "    .dataframe tbody tr th:only-of-type {\n",
       "        vertical-align: middle;\n",
       "    }\n",
       "\n",
       "    .dataframe tbody tr th {\n",
       "        vertical-align: top;\n",
       "    }\n",
       "\n",
       "    .dataframe thead th {\n",
       "        text-align: right;\n",
       "    }\n",
       "</style>\n",
       "<table border=\"1\" class=\"dataframe\">\n",
       "  <thead>\n",
       "    <tr style=\"text-align: right;\">\n",
       "      <th></th>\n",
       "      <th>ProductCategory</th>\n",
       "      <th>NumberOfPurchases</th>\n",
       "    </tr>\n",
       "  </thead>\n",
       "  <tbody>\n",
       "    <tr>\n",
       "      <th>2</th>\n",
       "      <td>2</td>\n",
       "      <td>1412</td>\n",
       "    </tr>\n",
       "    <tr>\n",
       "      <th>3</th>\n",
       "      <td>3</td>\n",
       "      <td>1412</td>\n",
       "    </tr>\n",
       "    <tr>\n",
       "      <th>1</th>\n",
       "      <td>1</td>\n",
       "      <td>1637</td>\n",
       "    </tr>\n",
       "    <tr>\n",
       "      <th>0</th>\n",
       "      <td>0</td>\n",
       "      <td>1665</td>\n",
       "    </tr>\n",
       "    <tr>\n",
       "      <th>4</th>\n",
       "      <td>4</td>\n",
       "      <td>1768</td>\n",
       "    </tr>\n",
       "  </tbody>\n",
       "</table>\n",
       "</div>"
      ],
      "text/plain": [
       "   ProductCategory  NumberOfPurchases\n",
       "2                2               1412\n",
       "3                3               1412\n",
       "1                1               1637\n",
       "0                0               1665\n",
       "4                4               1768"
      ]
     },
     "execution_count": 59,
     "metadata": {},
     "output_type": "execute_result"
    }
   ],
   "source": [
    "# What are the top product categories purchased by females?\n",
    "data[data['Gender'] == 1].groupby('ProductCategory')['NumberOfPurchases'].sum().reset_index().sort_values(by ='NumberOfPurchases')"
   ]
  },
  {
   "cell_type": "code",
   "execution_count": 61,
   "id": "70c62141-024c-44b1-8e78-6c86adbade2a",
   "metadata": {},
   "outputs": [
    {
     "data": {
      "text/plain": [
       "Age                       18.000000\n",
       "Gender                     1.000000\n",
       "AnnualIncome          149785.176481\n",
       "NumberOfPurchases         10.000000\n",
       "ProductCategory            0.000000\n",
       "TimeSpentOnWebsite        38.979469\n",
       "LoyaltyProgram             0.000000\n",
       "DiscountsAvailed           5.000000\n",
       "PurchaseStatus             1.000000\n",
       "Name: 468, dtype: float64"
      ]
     },
     "execution_count": 61,
     "metadata": {},
     "output_type": "execute_result"
    }
   ],
   "source": [
    "#who is the customer with  highest annual income?\n",
    "data.sort_values(by='AnnualIncome', ascending=False).iloc[0]"
   ]
  },
  {
   "cell_type": "code",
   "execution_count": 67,
   "id": "65796ced-ca8e-4e92-ad5b-6907ee2800bf",
   "metadata": {},
   "outputs": [
    {
     "data": {
      "text/plain": [
       "Age                      29.000000\n",
       "Gender                    1.000000\n",
       "AnnualIncome          58153.547017\n",
       "NumberOfPurchases        16.000000\n",
       "ProductCategory           2.000000\n",
       "TimeSpentOnWebsite       59.991105\n",
       "LoyaltyProgram            1.000000\n",
       "DiscountsAvailed          3.000000\n",
       "PurchaseStatus            1.000000\n",
       "Name: 616, dtype: float64"
      ]
     },
     "execution_count": 67,
     "metadata": {},
     "output_type": "execute_result"
    }
   ],
   "source": [
    "# Find the customer who spent the most time on the website\n",
    "data.loc[data['TimeSpentOnWebsite'].idxmax()]\n"
   ]
  },
  {
   "cell_type": "code",
   "execution_count": 69,
   "id": "f57b584c-c232-4369-9570-9eed3d0efc3f",
   "metadata": {},
   "outputs": [
    {
     "data": {
      "text/plain": [
       "Age                      40.000000\n",
       "Gender                    1.000000\n",
       "AnnualIncome          66120.267939\n",
       "NumberOfPurchases         8.000000\n",
       "ProductCategory           0.000000\n",
       "TimeSpentOnWebsite       30.568601\n",
       "LoyaltyProgram            0.000000\n",
       "DiscountsAvailed          5.000000\n",
       "PurchaseStatus            1.000000\n",
       "Name: 0, dtype: float64"
      ]
     },
     "execution_count": 69,
     "metadata": {},
     "output_type": "execute_result"
    }
   ],
   "source": [
    "#What are the highest discounts availed by customer\n",
    "data.loc[data['DiscountsAvailed'].idxmax()]"
   ]
  },
  {
   "cell_type": "markdown",
   "id": "e5d7f082-fc35-4e73-afa9-712c98047554",
   "metadata": {},
   "source": [
    "### Visualization\n"
   ]
  },
  {
   "cell_type": "code",
   "execution_count": 341,
   "id": "3b720b21-adac-4966-a775-699d74ae72cd",
   "metadata": {},
   "outputs": [
    {
     "data": {
      "image/png": "[encoded data removed]",
      "text/plain": [
       "<Figure size 2000x600 with 1 Axes>"
      ]
     },
     "metadata": {},
     "output_type": "display_data"
    }
   ],
   "source": [
    "# How do customers' annual incomes vary?\n",
    "# Plot histogram of Annual Income\n",
    "plt.figure(figsize=(20, 6))\n",
    "plt.hist(data['AnnualIncome'],bins = 25 , color='lightblue', edgecolor='black')\n",
    "plt.title(('customers Annual Income') , color = 'BLUE')\n",
    "plt.xlabel('Annual Income')\n",
    "plt.ylabel('Number of Customers')\n",
    "plt.grid(axis='y', alpha=1)\n",
    "plt.show()"
   ]
  },
  {
   "cell_type": "code",
   "execution_count": 93,
   "id": "361e6da1-ad74-4edd-9ce1-f3376f9fbf24",
   "metadata": {},
   "outputs": [
    {
     "data": {
      "image/png": "[encoded data removed]",
      "text/plain": [
       "<Figure size 800x600 with 1 Axes>"
      ]
     },
     "metadata": {},
     "output_type": "display_data"
    }
   ],
   "source": [
    "avg_time_above_40 = data[data['Age'] > 40]['TimeSpentOnWebsite'].mean()  \n",
    "\n",
    "# Create the bar chart  \n",
    "plt.figure(figsize=(8, 6))  \n",
    "plt.bar(['Customers Above 40'], [avg_time_above_40], color='ORANGE')  \n",
    "plt.title('Average Time Spent on Website by Customers Above 40')  \n",
    "plt.xlabel('Age Group')  \n",
    "plt.ylabel('Average Time Spent (minutes)')  \n",
    "plt.ylim(0, max(data['TimeSpentOnWebsite']) + 10)  # Set y-axis limit slightly higher than the maximum value  \n",
    "plt.grid(axis='y', alpha=0.75)  \n",
    "\n",
    "# Display the average time spent on the website  \n",
    "plt.text(0, avg_time_above_40, f\"{avg_time_above_40:.2f} minutes\", ha='center', va='bottom', fontsize=12)  \n",
    "\n",
    "plt.show()  "
   ]
  },
  {
   "cell_type": "code",
   "execution_count": 125,
   "id": "f163ae57-98cc-4c06-a2f3-f2e2dc73d6a3",
   "metadata": {},
   "outputs": [
    {
     "data": {
      "image/png": "[encoded data removed]",
      "text/plain": [
       "<Figure size 800x600 with 1 Axes>"
      ]
     },
     "metadata": {},
     "output_type": "display_data"
    }
   ],
   "source": [
    "avg_purchases = data[data['Age'] > 20]['NumberOfPurchases'].mean()  \n",
    "\n",
    "# Create the bar chart  \n",
    "plt.figure(figsize=(8, 6))  \n",
    "plt.bar(['Customers Above 20'], [avg_purchases], color='green')  \n",
    "plt.title('Average Purchases by Customers Above 20')  \n",
    "plt.xlabel('Age Group')  \n",
    "plt.ylabel('Average Purchases')  \n",
    "plt.ylim(0, max(avg_purchases + 10, data['NumberOfPurchases'].max() + 10))   \n",
    "plt.grid(axis='y', alpha=0.75)  \n",
    "\n",
    "# Display the average purchases  \n",
    "plt.text(0, avg_purchases, f\"{avg_purchases:.2f}\", ha='center', va='bottom', fontsize=12)  \n",
    "\n",
    "plt.show()"
   ]
  },
  {
   "cell_type": "code",
   "execution_count": null,
   "id": "83f840a9-5739-4301-9593-005162242441",
   "metadata": {},
   "outputs": [],
   "source": []
  },
  {
   "cell_type": "code",
   "execution_count": 409,
   "id": "812f34c5-c4ef-4313-a1b3-c16b02c40722",
   "metadata": {},
   "outputs": [
    {
     "data": {
      "image/png": "[encoded data removed]",
      "text/plain": [
       "<Figure size 1000x600 with 1 Axes>"
      ]
     },
     "metadata": {},
     "output_type": "display_data"
    },
    {
     "data": {
      "image/png": "[encoded data removed]",
      "text/plain": [
       "<Figure size 200x400 with 1 Axes>"
      ]
     },
     "metadata": {},
     "output_type": "display_data"
    }
   ],
   "source": [
    "# Age \n",
    "plt.figure(figsize=(10, 6))\n",
    "sns.histplot(data['Age'], bins=20, kde=True)\n",
    "plt.title('Age of Customers')\n",
    "plt.xlabel('Age')\n",
    "plt.ylabel('Frequency')\n",
    "plt.show()\n",
    "\n",
    "# Gender \n",
    "plt.figure(figsize=(2, 4))\n",
    "sns.countplot(x='Gender' , data = data)\n",
    "plt.title('Gender  of Customers')\n",
    "plt.xlabel('Gender (1=Male, 0=Female)')\n",
    "plt.ylabel('Count')\n",
    "plt.show()"
   ]
  },
  {
   "cell_type": "code",
   "execution_count": 413,
   "id": "d66f0945-a646-46a2-ba5a-e890a3137c31",
   "metadata": {},
   "outputs": [
    {
     "data": {
      "image/png": "[encoded data removed]",
      "text/plain": [
       "<Figure size 1000x600 with 1 Axes>"
      ]
     },
     "metadata": {},
     "output_type": "display_data"
    }
   ],
   "source": [
    "# Annual income vary\n",
    "plt.figure(figsize=(10, 6))\n",
    "sns.histplot(data['AnnualIncome'], bins=20, kde=True)\n",
    "plt.title('Annual Income vary of Customers')\n",
    "plt.xlabel('Annual Income')\n",
    "plt.ylabel('Frequency')\n",
    "plt.show()"
   ]
  },
  {
   "cell_type": "code",
   "execution_count": 415,
   "id": "e5f6b842-d2eb-4713-b7ed-09cfb92a9854",
   "metadata": {},
   "outputs": [
    {
     "data": {
      "image/png": "[encoded data removed]",
      "text/plain": [
       "<Figure size 1000x600 with 1 Axes>"
      ]
     },
     "metadata": {},
     "output_type": "display_data"
    }
   ],
   "source": [
    "# Product category \n",
    "plt.figure(figsize=(10, 6))\n",
    "sns.countplot(x='ProductCategory', data=data)\n",
    "plt.title('Product Category Distribution')\n",
    "plt.xlabel('Product Category')\n",
    "plt.ylabel('Count')\n",
    "plt.show()"
   ]
  },
  {
   "cell_type": "code",
   "execution_count": null,
   "id": "91bc625c-5da2-457b-a5bb-862a6e882271",
   "metadata": {},
   "outputs": [],
   "source": []
  }
 ],
 "metadata": {
  "kernelspec": {
   "display_name": "Python 3 (ipykernel)",
   "language": "python",
   "name": "python3"
  },
  "language_info": {
   "codemirror_mode": {
    "name": "ipython",
    "version": 3
   },
   "file_extension": ".py",
   "mimetype": "text/x-python",
   "name": "python",
   "nbconvert_exporter": "python",
   "pygments_lexer": "ipython3",
   "version": "3.12.4"
  }
 },
 "nbformat": 4,
 "nbformat_minor": 5
}
